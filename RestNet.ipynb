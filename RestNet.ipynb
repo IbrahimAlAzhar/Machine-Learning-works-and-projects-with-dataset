{
 "cells": [
  {
   "cell_type": "code",
   "execution_count": null,
   "metadata": {},
   "outputs": [],
   "source": [
    "x= ZeroPadding2D(padding=(3,3),name='conv1_pad')(img_input)\n",
    "x = Convolution2D(64,(7,7))"
   ]
  },
  {
   "cell_type": "code",
   "execution_count": null,
   "metadata": {},
   "outputs": [],
   "source": [
    "#RestNet\n",
    "x = Convolution2D(filters1,(1,1),name=conv_name_base+'2a')(input_tensor)\n",
    "x = BatchNormalization(axis=bn_axis,name=bn_name_base+'2a')(x)\n",
    "x = Activation('relu')(x) #1st layer done\n",
    "\n",
    "x = Convolution2D(filters2,kernel_size,padding='same',name=conv_name_base+'2b')(x)\n",
    "x = BatchNormalization(axis=bn_axis,name=bn_name_base+'2b')(x)\n",
    "x = Activation('relu')(x)\n",
    "\n",
    "x = Convolution2D(filters3,(1,1),name=conv_name_base + '2c')(x)\n",
    "x = BatchNormalization(axis=bn_axis,name=bn_name_base + '2c')(x)\n",
    "x = layer.add([x,input_tensor]) # here add previous value and x before relu activation\n",
    "x = Activation('relu')(x)\n",
    "return x"
   ]
  },
  {
   "cell_type": "code",
   "execution_count": null,
   "metadata": {},
   "outputs": [],
   "source": []
  },
  {
   "cell_type": "code",
   "execution_count": null,
   "metadata": {},
   "outputs": [],
   "source": []
  }
 ],
 "metadata": {
  "kernelspec": {
   "display_name": "Python 3",
   "language": "python",
   "name": "python3"
  },
  "language_info": {
   "codemirror_mode": {
    "name": "ipython",
    "version": 3
   },
   "file_extension": ".py",
   "mimetype": "text/x-python",
   "name": "python",
   "nbconvert_exporter": "python",
   "pygments_lexer": "ipython3",
   "version": "3.7.4"
  }
 },
 "nbformat": 4,
 "nbformat_minor": 2
}
