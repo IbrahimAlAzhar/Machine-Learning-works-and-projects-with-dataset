{
 "cells": [
  {
   "cell_type": "code",
   "execution_count": null,
   "metadata": {},
   "outputs": [],
   "source": [
    "%pylab inline\n",
    "\n",
    "import copy\n",
    "\n",
    "import numpy as np\n",
    "import pandas as pd\n",
    "import matplotlib.pyplot as plt\n",
    "\n",
    "from keras.datasets import mnist, cifar10\n",
    "from keras.models import Sequential, Graph\n",
    "from keras.layers.core import Dense, Dropout, Activation, Flatten, Reshape\n",
    "from keras.optimizers import SGD, RMSprop\n",
    "from keras.utils import np_utils\n",
    "from keras.regularizers import l2\n",
    "from keras.layers.convolutional import Convolution2D, MaxPooling2D, ZeroPadding2D, AveragePooling2D\n",
    "from keras.callbacks import EarlyStopping\n",
    "from keras.preprocessing.image import ImageDataGenerator\n",
    "from keras.layers.normalization import BatchNormalization\n",
    "\n",
    "from PIL import Image"
   ]
  },
  {
   "cell_type": "code",
   "execution_count": null,
   "metadata": {},
   "outputs": [],
   "source": [
    "(X_train, y_train), (X_test, y_test) = mnist.load_data()\n",
    "X_train = X_train.reshape(X_train.shape[0], 1, 28, 28).astype('float32') / 255\n",
    "X_test = X_test.reshape(X_test.shape[0], 1, 28, 28).astype('float32') / 255\n",
    "Y_train = np_utils.to_categorical(y_train, 10)\n",
    "Y_test = np_utils.to_categorical(y_test, 10)"
   ]
  },
  {
   "cell_type": "code",
   "execution_count": null,
   "metadata": {},
   "outputs": [],
   "source": [
    "# lenet 5 model = Sequential()\n",
    "\n",
    "model.add(Convolution2D(6, 5, 5, border_mode='valid', input_shape = (1, 28, 28)))\n",
    "model.add(MaxPooling2D(pool_size=(2, 2)))\n",
    "model.add(Activation(\"sigmoid\"))\n",
    "\n",
    "model.add(Convolution2D(16, 5, 5, border_mode='valid'))\n",
    "model.add(MaxPooling2D(pool_size=(2, 2)))\n",
    "model.add(Activation(\"sigmoid\"))\n",
    "model.add(Dropout(0.5))\n",
    "\n",
    "model.add(Convolution2D(120, 1, 1, border_mode='valid'))\n",
    "\n",
    "model.add(Flatten())\n",
    "model.add(Dense(84))\n",
    "model.add(Activation(\"sigmoid\"))\n",
    "model.add(Dense(10))\n",
    "model.add(Activation('softmax'))on mnist 10\n"
   ]
  },
  {
   "cell_type": "code",
   "execution_count": null,
   "metadata": {},
   "outputs": [],
   "source": [
    "l_rate = 1\n",
    "sgd = SGD(lr=l_rate, mu=0.8)\n",
    "model.compile(loss='categorical_crossentropy', optimizer=sgd)\n",
    "model.fit(X_train, Y_train, batch_size=32, nb_epoch=2,\n",
    "          verbose=1, show_accuracy=True, validation_data=(X_test, Y_test))\n",
    "\n",
    "sgd = SGD(lr=0.8 * l_rate, mu=0.8)\n",
    "model.compile(loss='categorical_crossentropy', optimizer=sgd)\n",
    "model.fit(X_train, Y_train, batch_size=32, nb_epoch=3,\n",
    "          verbose=1, show_accuracy=True, validation_data=(X_test, Y_test))\n",
    "\n",
    "sgd = SGD(lr=0.4 * l_rate, mu=0.8)\n",
    "model.compile(loss='categorical_crossentropy', optimizer=sgd)\n",
    "model.fit(X_train, Y_train, batch_size=32, nb_epoch=3,\n",
    "          verbose=1, show_accuracy=True, validation_data=(X_test, Y_test))\n",
    "\n",
    "sgd = SGD(lr=0.2 * l_rate, mu=0.8)\n",
    "model.compile(loss='categorical_crossentropy', optimizer=sgd)\n",
    "model.fit(X_train, Y_train, batch_size=32, nb_epoch=4,\n",
    "          verbose=1, show_accuracy=True, validation_data=(X_test, Y_test))\n",
    "\n",
    "sgd = SGD(lr=0.08 * l_rate, mu=0.8)\n",
    "model.compile(loss='categorical_crossentropy', optimizer=sgd)\n",
    "model.fit(X_train, Y_train, batch_size=32, nb_epoch=8,\n",
    "          verbose=1, show_accuracy=True, validation_data=(X_test, Y_test))"
   ]
  },
  {
   "cell_type": "code",
   "execution_count": null,
   "metadata": {},
   "outputs": [],
   "source": [
    "print(\"Test classification rate %0.05f\" % model.evaluate(X_test, Y_test, show_accuracy=True)[1])"
   ]
  },
  {
   "cell_type": "code",
   "execution_count": null,
   "metadata": {},
   "outputs": [],
   "source": [
    "\n",
    "y_hat = model.predict_classes(X_test)\n",
    "test_wrong = [im for im in zip(X_test,y_hat,y_test) if im[1] != im[2]]\n",
    "\n",
    "plt.figure(figsize=(10, 10))\n",
    "for ind, val in enumerate(test_wrong[:100]):\n",
    "    plt.subplots_adjust(left=0, right=1, bottom=0, top=1)\n",
    "    plt.subplot(10, 10, ind + 1)\n",
    "    im = 1 - val[0].reshape((28,28))\n",
    "    plt.axis(\"off\")\n",
    "    plt.text(0, 0, val[2], fontsize=14, color='blue')\n",
    "    plt.text(8, 0, val[1], fontsize=14, color='red')\n",
    "    plt.imshow(im, cmap='gray')"
   ]
  },
  {
   "cell_type": "code",
   "execution_count": null,
   "metadata": {},
   "outputs": [],
   "source": [
    "# LeNet-5 with \"Distortions\" (i.e., Data augmentation\n",
    "# this will do preprocessing and realtime data augmentation\n",
    "datagen = ImageDataGenerator(\n",
    "    featurewise_center=False,  # set input mean to 0 over the dataset\n",
    "    samplewise_center=False,  # set each sample mean to 0\n",
    "    featurewise_std_normalization=False,  # divide inputs by std of the dataset\n",
    "    samplewise_std_normalization=False,  # divide each input by its std\n",
    "    zca_whitening=False,  # apply ZCA whitening\n",
    "    rotation_range=25,  # randomly rotate images in the range (degrees, 0 to 180)\n",
    "    width_shift_range=0.1,  # randomly shift images horizontally (fraction of total width)\n",
    "    height_shift_range=0.1,  # randomly shift images vertically (fraction of total height)\n",
    "    horizontal_flip=False,  # randomly flip images\n",
    "    vertical_flip=False)  # randomly flip images\n",
    "\n",
    "datagen.fit(X_train)"
   ]
  },
  {
   "cell_type": "code",
   "execution_count": null,
   "metadata": {},
   "outputs": [],
   "source": [
    "#lenet 5 architecture\n",
    "model = Sequential()\n",
    "\n",
    "model.add(Convolution2D(6, 5, 5, border_mode='valid', input_shape = (1, 28, 28)))\n",
    "model.add(MaxPooling2D(pool_size=(2, 2)))\n",
    "model.add(Activation(\"sigmoid\"))\n",
    "\n",
    "model.add(Convolution2D(16, 5, 5, border_mode='valid'))\n",
    "model.add(MaxPooling2D(pool_size=(2, 2)))\n",
    "model.add(Activation(\"sigmoid\"))\n",
    "model.add(Dropout(0.5))\n",
    "\n",
    "model.add(Convolution2D(120, 1, 1, border_mode='valid'))\n",
    "\n",
    "model.add(Flatten())\n",
    "model.add(Dense(84))\n",
    "model.add(Activation(\"sigmoid\"))\n",
    "model.add(Dense(10))\n",
    "model.add(Activation('softmax'))"
   ]
  },
  {
   "cell_type": "code",
   "execution_count": null,
   "metadata": {},
   "outputs": [],
   "source": [
    "model.compile(loss='categorical_crossentropy', optimizer=RMSprop())\n",
    "model.fit(X_train, Y_train, batch_size=32, nb_epoch=25,\n",
    "          verbose=1, show_accuracy=True, validation_data=(X_test, Y_test))"
   ]
  },
  {
   "cell_type": "code",
   "execution_count": null,
   "metadata": {},
   "outputs": [],
   "source": [
    "print(\"Test classification rate %0.05f\" % model.evaluate(X_test, Y_test, show_accuracy=True)[1])\n"
   ]
  },
  {
   "cell_type": "code",
   "execution_count": null,
   "metadata": {},
   "outputs": [],
   "source": [
    "#overfit adaptation of alexnet\n",
    "model = Sequential()\n",
    "\n",
    "# Layer 1\n",
    "model.add(Convolution2D(96, 11, 11, input_shape = (1,28,28), border_mode='same'))\n",
    "model.add(Activation('relu'))\n",
    "model.add(MaxPooling2D(pool_size=(2, 2)))\n",
    "\n",
    "# Layer 2\n",
    "model.add(Convolution2D(256, 5, 5, border_mode='same'))\n",
    "model.add(Activation('relu'))\n",
    "model.add(MaxPooling2D(pool_size=(2, 2)))\n",
    "\n",
    "# Layer 3\n",
    "model.add(ZeroPadding2D((1,1)))\n",
    "model.add(Convolution2D(512, 3, 3, border_mode='same'))\n",
    "model.add(Activation('relu'))\n",
    "\n",
    "# Layer 4\n",
    "model.add(ZeroPadding2D((1,1)))\n",
    "model.add(Convolution2D(1024, 3, 3, border_mode='same'))\n",
    "model.add(Activation('relu'))\n",
    "\n",
    "# Layer 5\n",
    "model.add(ZeroPadding2D((1,1)))\n",
    "model.add(Convolution2D(1024, 3, 3, border_mode='same'))\n",
    "model.add(Activation('relu'))\n",
    "model.add(MaxPooling2D(pool_size=(2, 2)))\n",
    "\n",
    "# Layer 6\n",
    "model.add(Flatten())\n",
    "model.add(Dense(3072, init='glorot_normal'))\n",
    "model.add(Activation('relu'))\n",
    "model.add(Dropout(0.5))\n",
    "\n",
    "# Layer 7\n",
    "model.add(Dense(4096, init='glorot_normal'))\n",
    "model.add(Activation('relu'))\n",
    "model.add(Dropout(0.5))\n",
    "\n",
    "# Layer 8\n",
    "model.add(Dense(10, init='glorot_normal'))\n",
    "model.add(Activation('softmax'))"
   ]
  },
  {
   "cell_type": "code",
   "execution_count": null,
   "metadata": {},
   "outputs": [],
   "source": [
    "model.compile(loss='categorical_crossentropy', optimizer=RMSprop())\n",
    "model.fit(X_train[:10], Y_train[:10], batch_size=1, nb_epoch=1,\n",
    "          verbose=1, show_accuracy=True)"
   ]
  },
  {
   "cell_type": "code",
   "execution_count": null,
   "metadata": {},
   "outputs": [],
   "source": [
    "# VGG 19 model\n",
    "model = Sequential()\n",
    "model.add(ZeroPadding2D((1,1),input_shape=(3,224,224)))\n",
    "model.add(Convolution2D(64, 3, 3, activation='relu'))\n",
    "model.add(ZeroPadding2D((1,1)))\n",
    "model.add(Convolution2D(64, 3, 3, activation='relu'))\n",
    "model.add(MaxPooling2D((2,2), strides=(2,2)))\n",
    "\n",
    "model.add(ZeroPadding2D((1,1)))\n",
    "model.add(Convolution2D(128, 3, 3, activation='relu'))\n",
    "model.add(ZeroPadding2D((1,1)))\n",
    "model.add(Convolution2D(128, 3, 3, activation='relu'))\n",
    "model.add(MaxPooling2D((2,2), strides=(2,2)))\n",
    "\n",
    "model.add(ZeroPadding2D((1,1)))\n",
    "model.add(Convolution2D(256, 3, 3, activation='relu'))\n",
    "model.add(ZeroPadding2D((1,1)))\n",
    "model.add(Convolution2D(256, 3, 3, activation='relu'))\n",
    "model.add(ZeroPadding2D((1,1)))\n",
    "model.add(Convolution2D(256, 3, 3, activation='relu'))\n",
    "model.add(ZeroPadding2D((1,1)))\n",
    "model.add(Convolution2D(256, 3, 3, activation='relu'))\n",
    "model.add(MaxPooling2D((2,2), strides=(2,2)))\n",
    "\n",
    "model.add(ZeroPadding2D((1,1)))\n",
    "model.add(Convolution2D(512, 3, 3, activation='relu'))\n",
    "model.add(ZeroPadding2D((1,1)))\n",
    "model.add(Convolution2D(512, 3, 3, activation='relu'))\n",
    "model.add(ZeroPadding2D((1,1)))\n",
    "model.add(Convolution2D(512, 3, 3, activation='relu'))\n",
    "model.add(ZeroPadding2D((1,1)))\n",
    "model.add(Convolution2D(512, 3, 3, activation='relu'))\n",
    "model.add(MaxPooling2D((2,2), strides=(2,2)))\n",
    "\n",
    "model.add(ZeroPadding2D((1,1)))\n",
    "model.add(Convolution2D(512, 3, 3, activation='relu'))\n",
    "model.add(ZeroPadding2D((1,1)))\n",
    "model.add(Convolution2D(512, 3, 3, activation='relu'))\n",
    "model.add(ZeroPadding2D((1,1)))\n",
    "model.add(Convolution2D(512, 3, 3, activation='relu'))\n",
    "model.add(ZeroPadding2D((1,1)))\n",
    "model.add(Convolution2D(512, 3, 3, activation='relu'))\n",
    "model.add(MaxPooling2D((2,2), strides=(2,2)))\n",
    "\n",
    "model.add(Flatten())\n",
    "model.add(Dense(4096, activation='relu'))\n",
    "model.add(Dropout(0.5))\n",
    "model.add(Dense(4096, activation='relu'))\n",
    "model.add(Dropout(0.5))\n",
    "model.add(Dense(1000, activation='softmax'))"
   ]
  },
  {
   "cell_type": "code",
   "execution_count": null,
   "metadata": {},
   "outputs": [],
   "source": [
    "model.load_weights(\"../../../class_data/keras/vgg19_weights.h5\")\n",
    "\n",
    "sgd = SGD(lr=0.1, decay=1e-6, momentum=0.9, nesterov=True)\n",
    "model.compile(optimizer=sgd, loss='categorical_crossentropy')"
   ]
  },
  {
   "cell_type": "code",
   "execution_count": null,
   "metadata": {},
   "outputs": [],
   "source": [
    "synsets = []\n",
    "with open(\"../../../class_data/keras/synset_words.txt\", \"r\") as f:\n",
    "    synsets += f.readlines()\n",
    "synsets = [x.replace(\"\\n\",\"\") for x in synsets]"
   ]
  },
  {
   "cell_type": "code",
   "execution_count": null,
   "metadata": {},
   "outputs": [],
   "source": [
    "im = Image.open('img/lion.jpg').resize((224, 224), Image.ANTIALIAS)\n",
    "plt.figure(figsize=(4, 4))\n",
    "plt.axis(\"off\")\n",
    "plt.imshow(im)\n",
    "im = np.array(im).astype(np.float32)\n",
    "\n",
    "# scale the image, according to the format used in training\n",
    "im[:,:,0] -= 103.939\n",
    "im[:,:,1] -= 116.779\n",
    "im[:,:,2] -= 123.68\n",
    "im = im.transpose((2,0,1))\n",
    "im = np.expand_dims(im, axis=0)"
   ]
  },
  {
   "cell_type": "code",
   "execution_count": null,
   "metadata": {},
   "outputs": [],
   "source": [
    "out = model.predict(im)\n",
    "for index in np.argsort(out)[0][::-1][:10]:\n",
    "    print(\"%01.4f - %s\" % (out[0][index], synsets[index].replace(\"\\n\",\"\")))"
   ]
  },
  {
   "cell_type": "code",
   "execution_count": null,
   "metadata": {},
   "outputs": [],
   "source": [
    "# GoogleNet inception module\n",
    "model = Graph()\n",
    "model.add_input(name='n00', input_shape=(1,28,28))\n",
    "\n",
    "# layer 1\n",
    "model.add_node(Convolution2D(64,1,1, activation='relu'), name='n11', input='n00')\n",
    "model.add_node(Flatten(), name='n11_f', input='n11')\n",
    "\n",
    "model.add_node(Convolution2D(96,1,1, activation='relu'), name='n12', input='n00')\n",
    "\n",
    "model.add_node(Convolution2D(16,1,1, activation='relu'), name='n13', input='n00')\n",
    "\n",
    "model.add_node(MaxPooling2D((3,3),strides=(2,2)), name='n14', input='n00')\n",
    "\n",
    "# layer 2\n",
    "model.add_node(Convolution2D(128,3,3, activation='relu'), name='n22', input='n12')\n",
    "model.add_node(Flatten(), name='n22_f', input='n22')\n",
    "\n",
    "model.add_node(Convolution2D(32,5,5, activation='relu'), name='n23', input='n13')\n",
    "model.add_node(Flatten(), name='n23_f', input='n23')\n",
    "\n",
    "model.add_node(Convolution2D(32,1,1, activation='relu'), name='n24', input='n14')\n",
    "model.add_node(Flatten(), name='n24_f', input='n24')\n",
    "\n",
    "# output layer\n",
    "model.add_node(Dense(1024, activation='relu'), name='layer4',\n",
    "               inputs=['n11_f', 'n22_f', 'n23_f', 'n24_f'], merge_mode='concat')\n",
    "model.add_node(Dense(10, activation='softmax'), name='layer5', input='layer4')\n",
    "model.add_output(name='output1',input='layer5')"
   ]
  },
  {
   "cell_type": "code",
   "execution_count": null,
   "metadata": {},
   "outputs": [],
   "source": [
    "model.compile(loss={'output1':'categorical_crossentropy'}, optimizer=RMSprop())\n",
    "model.fit({'n00':X_train[:100], 'output1':Y_train[:100]}, nb_epoch=1, verbose=1)"
   ]
  },
  {
   "cell_type": "code",
   "execution_count": null,
   "metadata": {},
   "outputs": [],
   "source": [
    "# Batch normalization\n",
    "model = Sequential()\n",
    "\n",
    "model.add(Convolution2D(6, 5, 5, border_mode='valid', input_shape = (1, 28, 28)))\n",
    "model.add(MaxPooling2D(pool_size=(2, 2)))\n",
    "model.add(BatchNormalization())\n",
    "model.add(Activation(\"relu\"))\n",
    "\n",
    "model.add(Convolution2D(16, 5, 5, border_mode='valid'))\n",
    "model.add(MaxPooling2D(pool_size=(2, 2)))\n",
    "model.add(BatchNormalization())\n",
    "model.add(Activation(\"relu\"))\n",
    "\n",
    "model.add(Convolution2D(120, 1, 1, border_mode='valid'))\n",
    "\n",
    "model.add(Flatten())\n",
    "model.add(Dense(84))\n",
    "model.add(Activation(\"relu\"))\n",
    "model.add(Dense(10))\n",
    "model.add(Activation('softmax'))"
   ]
  },
  {
   "cell_type": "code",
   "execution_count": null,
   "metadata": {},
   "outputs": [],
   "source": [
    "model.compile(loss='categorical_crossentropy', optimizer=RMSprop())\n",
    "model.fit(X_train, Y_train, batch_size=32, nb_epoch=8,\n",
    "          verbose=1, show_accuracy=True, validation_data=(X_test, Y_test))"
   ]
  },
  {
   "cell_type": "code",
   "execution_count": null,
   "metadata": {},
   "outputs": [],
   "source": [
    "#Residual block-ResNet\n",
    "model = Graph()\n",
    "model.add_input(name='input0', input_shape=(1,28,28))\n",
    "model.add_node(Flatten(), name='input1', input='input0')\n",
    "model.add_node(Dense(50),   name='input2', input='input1')\n",
    "\n",
    "model.add_node(Dense(50, activation='relu'), name='middle1', input='input2')\n",
    "model.add_node(Dense(50, activation='relu'), name='middle2', input='middle1')\n",
    "\n",
    "model.add_node(Dense(512, activation='relu'), name='top1',\n",
    "               inputs=['input2', 'middle2'], merge_mode='sum')\n",
    "model.add_node(Dense(10, activation='softmax'), name='top2', input='top1')\n",
    "model.add_output(name='top3',input='top2')"
   ]
  },
  {
   "cell_type": "code",
   "execution_count": null,
   "metadata": {},
   "outputs": [],
   "source": [
    "model.compile(loss={'top3':'categorical_crossentropy'}, optimizer=RMSprop())\n",
    "model.fit({'input0':X_train, 'top3':Y_train}, nb_epoch=25, verbose=1,\n",
    "          validation_data={'input0':X_test, 'top3':Y_test})"
   ]
  },
  {
   "cell_type": "code",
   "execution_count": null,
   "metadata": {},
   "outputs": [],
   "source": [
    "#pure convolution\n",
    "model = Sequential()\n",
    "\n",
    "model.add(Convolution2D(96, 5, 5, border_mode='valid', input_shape = (1, 28, 28)))\n",
    "model.add(MaxPooling2D(pool_size=(3, 3), strides=(2,2)))\n",
    "model.add(Activation(\"relu\"))\n",
    "\n",
    "model.add(Convolution2D(192, 5, 5, border_mode='valid'))\n",
    "model.add(MaxPooling2D(pool_size=(3, 3), strides=(2,2)))\n",
    "model.add(Activation(\"relu\"))\n",
    "\n",
    "model.add(Convolution2D(192, 3, 3, border_mode='valid'))\n",
    "model.add(Activation(\"relu\"))\n",
    "model.add(Convolution2D(192, 1, 1, border_mode='valid'))\n",
    "model.add(Activation(\"relu\"))\n",
    "model.add(Convolution2D(10, 1, 1, border_mode='valid'))\n",
    "model.add(Activation(\"relu\"))\n",
    "\n",
    "model.add(Flatten())\n",
    "model.add(Activation('softmax'))\n",
    "          \n",
    "rms = RMSprop()\n",
    "model.compile(loss='categorical_crossentropy', optimizer=rms)"
   ]
  },
  {
   "cell_type": "code",
   "execution_count": null,
   "metadata": {},
   "outputs": [],
   "source": []
  }
 ],
 "metadata": {
  "kernelspec": {
   "display_name": "Python 3",
   "language": "python",
   "name": "python3"
  },
  "language_info": {
   "codemirror_mode": {
    "name": "ipython",
    "version": 3
   },
   "file_extension": ".py",
   "mimetype": "text/x-python",
   "name": "python",
   "nbconvert_exporter": "python",
   "pygments_lexer": "ipython3",
   "version": "3.7.4"
  }
 },
 "nbformat": 4,
 "nbformat_minor": 2
}
